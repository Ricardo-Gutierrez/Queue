{
 "cells": [
  {
   "cell_type": "markdown",
   "metadata": {},
   "source": [
    "<div style=\"display:flex;flex-direction:row;justify-content: space-evenly;\">\n",
    "<img src=\"tec.png\" style=\"width:320px;height:197px;\"/>\n",
    "<img src=\"itcolima.png\" style=\"width:197px\"/>\n",
    "</div>\n",
    "<div style=\"display:flex;flex-direction:column;gap:20px;text-align:center\"></div>\n",
    "\n",
    "<h1 align=\"center\">Tecnológico Nacional de México campus Colima</h1><br></br>\n",
    "<h2 align=\"center\">Maestría en Sistemas Computacionales</h2><br></br>\n",
    "<h3 align=\"center\">Tecnologias de Programacion</h3><br></br>\n",
    "<h3 align=\"center\">Colas multiproductor y multiconsumidor </h3><br></br>\n",
    "<h4 align=\"center\">Docente:</h4><br></br>\n",
    "<h4 align=\"center\">D. en C. Patricia Elizabeth Figueroa Millan</h4><br></br>\n",
    "<h4 align=\"center\">Autor:</h4><br></br>\n",
    "\n",
    "<h4 align=\"center\">Ing. Ricardo Gutierrez Valenzuela G2146012</h4><br></br>\n",
    "<h4 align=\"center\"></h4><br></br>\n",
    "<h4 align=\"center\">Villa de Álvarez, Colima, México</h4><br></br>\n",
    "<h4 align=\"center\">09 de noviembre de 2022</h4><br></br>"
   ]
  },
  {
   "cell_type": "markdown",
   "metadata": {},
   "source": [
    "Al igual que la pila, la cola es una estructura de datos lineal que almacena elementos de la manera de primero en entrar, primero en salir (FIFO). Con una cola, el elemento agregado menos recientemente se elimina primero. Un buen ejemplo de cola es cualquier cola de consumidores para un recurso donde el consumidor que llegó primero es atendido primero."
   ]
  },
  {
   "cell_type": "code",
   "execution_count": 3,
   "metadata": {},
   "outputs": [
    {
     "name": "stdout",
     "output_type": "stream",
     "text": [
      "Thread #2 is doing task #2 in the queue.Thread #3 is doing task #1 in the queue.Thread #1 is doing task #0 in the queue.\n",
      "\n",
      "\n",
      "Thread #0 is doing task #3 in the queue.\n",
      "Thread #0 is doing task #5 in the queue.Thread #1 is doing task #7 in the queue.Thread #3 is doing task #6 in the queue.\n",
      "Thread #2 is doing task #4 in the queue.\n",
      "\n",
      "\n",
      "Thread #2 is doing task #9 in the queue.Thread #3 is doing task #8 in the queue.\n",
      "\n"
     ]
    }
   ],
   "source": [
    "import queue\n",
    "import threading\n",
    "import time\n",
    "\n",
    "def func(q, thread_no):\n",
    "    while True:\n",
    "        task = q.get()\n",
    "        time.sleep(2)\n",
    "        q.task_done()\n",
    "        print(f'Thread #{thread_no} is doing task #{task} in the queue.')\n",
    "\n",
    "q = queue.Queue()\n",
    "\n",
    "for i in range(4):\n",
    "    worker = threading.Thread(target=func, args=(q, i,), daemon=True)\n",
    "    worker.start()\n",
    "\n",
    "for j in range(10):\n",
    "    q.put(j)\n",
    "    \n",
    "q.join()"
   ]
  },
  {
   "cell_type": "markdown",
   "metadata": {},
   "source": [
    "https://medium.datadriveninvestor.com/the-most-simple-explanation-of-threads-and-queues-in-python-cbc206025dd1\n",
    "\n",
    "https://www.geeksforgeeks.org/queue-in-python/\n"
   ]
  }
 ],
 "metadata": {
  "kernelspec": {
   "display_name": "Python 3.9.13 64-bit (microsoft store)",
   "language": "python",
   "name": "python3"
  },
  "language_info": {
   "codemirror_mode": {
    "name": "ipython",
    "version": 3
   },
   "file_extension": ".py",
   "mimetype": "text/x-python",
   "name": "python",
   "nbconvert_exporter": "python",
   "pygments_lexer": "ipython3",
   "version": "3.9.13"
  },
  "orig_nbformat": 4,
  "vscode": {
   "interpreter": {
    "hash": "4909af37a172c28130569340054d570d4f08223a85021e1d146ad7ce0a591b4e"
   }
  }
 },
 "nbformat": 4,
 "nbformat_minor": 2
}
